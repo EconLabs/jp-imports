{
  "cells": [
    {
      "cell_type": "markdown",
      "metadata": {},
      "source": [
        "---\n",
        "title: \"Moving price graph\"\n",
        "format:\n",
        "  html:\n",
        "    code-fold: true\n",
        "jupyter: python3\n",
        "---"
      ],
      "id": "873d2a03"
    },
    {
      "cell_type": "code",
      "metadata": {},
      "source": [
        "import os\n",
        "os.chdir(\"..\")"
      ],
      "id": "0383e9cc",
      "execution_count": null,
      "outputs": []
    },
    {
      "cell_type": "code",
      "metadata": {},
      "source": [
        "from src.jp_imports.data_process import DataTrade\n",
        "from src.jp_imports.data_pull import DataPull\n",
        "from polars.testing import assert_frame_equal\n",
        "import polars as pl\n",
        "import ibis\n",
        "\n",
        "ibis.options.interactive = True\n",
        "\n",
        "d = DataPull(\"sqlite:///test.sqlite\", debug=True, dev=True)\n",
        "d1 = DataTrade(\"sqlite:///test.sqlite\", debug=True, dev=True)\n",
        "conn = ibis.sqlite.connect(\"test.sqlite\")"
      ],
      "id": "bfda74f0",
      "execution_count": null,
      "outputs": []
    },
    {
      "cell_type": "code",
      "metadata": {},
      "source": [
        "d.insert_int_jp(\"test/test_inserts/jp_data_sample.parquet\", \"data/external/code_agr.json\")\n",
        "d.insert_int_org(\"test/test_inserts/org_data_sample.parquet\")"
      ],
      "id": "085c55c5",
      "execution_count": null,
      "outputs": []
    },
    {
      "cell_type": "code",
      "metadata": {},
      "source": [
        "df = conn.table(\"inttradedata\")\n",
        "hts = conn.table(\"htstable\").select(\"id\", \"agri_prod\").rename(agr_id=\"id\")\n",
        "df = df.join(hts, df.hts_id == hts.agr_id)\n",
        "df = df.filter(df.agri_prod)\n",
        "df.mutate(unit2_id=df.unit2_id.fillna(df.unit1_id))"
      ],
      "id": "22c022eb",
      "execution_count": null,
      "outputs": []
    },
    {
      "cell_type": "code",
      "metadata": {},
      "source": [
        "time = \"monthly\"\n",
        "types = \"hts\"\n",
        "df = d1.process_int_org(time, types, agr=False)\n",
        "df.to_polars()"
      ],
      "id": "b894a8ca",
      "execution_count": null,
      "outputs": []
    },
    {
      "cell_type": "code",
      "metadata": {},
      "source": [
        "for time in [\"yearly\", \"fiscal\", \"qrt\", \"monthly\"]:\n",
        "  for types in [\"total\", \"hts\", \"naics\"]:\n",
        "    for ag in [True, False]:\n",
        "      d1.process_int_jp(time, types, ag).to_parquet(f\"test/test_inserts/jp_results_{time}_{types}_{ag}.parquet\")"
      ],
      "id": "6a90a135",
      "execution_count": null,
      "outputs": []
    },
    {
      "cell_type": "code",
      "metadata": {},
      "source": [
        "df = d1.conn.table(\"inttradedata\")\n",
        "units = d1.conn.table(\"unittable\")\n",
        "hts = d1.conn.table(\"htstable\").select(\"id\", \"agri_prod\").rename(agr_id=\"id\")\n",
        "df = df.join(hts, df.hts_id == hts.agr_id)\n",
        "df = df.filter(df.agri_prod).drop([\"agr_id\", \"agri_prod\"])\n",
        "df = df.join(units, df.unit1_id == units.id).rename(unit_1=\"unit_code\")\n",
        "df = df.mutate(unit2_id=df.unit2_id.fill_null(df.unit1_id))\n",
        "df = df.join(units, df.unit2_id == units.id).rename(unit_2=\"unit_code\")\n",
        "df = d1.conversion(df, units)\n",
        "d1.filter_data(df, [\"year\", \"month\", \"hts_id\"])"
      ],
      "id": "b2205510",
      "execution_count": null,
      "outputs": []
    }
  ],
  "metadata": {
    "kernelspec": {
      "name": "python3",
      "language": "python",
      "display_name": "Python 3 (ipykernel)",
      "path": "/home/coder/miniforge3/envs/jp_imports/share/jupyter/kernels/python3"
    }
  },
  "nbformat": 4,
  "nbformat_minor": 5
}